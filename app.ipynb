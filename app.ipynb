{
 "cells": [
  {
   "cell_type": "code",
   "execution_count": null,
   "id": "7cb527d4-eafb-4882-b140-c57552d7ff08",
   "metadata": {},
   "outputs": [
    {
     "name": "stdout",
     "output_type": "stream",
     "text": [
      " * Serving Flask app '__main__'\n",
      " * Debug mode: off\n"
     ]
    },
    {
     "name": "stderr",
     "output_type": "stream",
     "text": [
      "WARNING: This is a development server. Do not use it in a production deployment. Use a production WSGI server instead.\n",
      " * Running on all addresses (0.0.0.0)\n",
      " * Running on http://127.0.0.1:5000\n",
      " * Running on http://192.168.164.1:5000\n",
      "Press CTRL+C to quit\n"
     ]
    }
   ],
   "source": [
    "from flask import Flask, request, jsonify, send_from_directory\n",
    "from inference_sdk import InferenceHTTPClient\n",
    "import os\n",
    "\n",
    "app = Flask(__name__)\n",
    "\n",
    "# Roboflow API client\n",
    "CLIENT = InferenceHTTPClient(\n",
    "    api_url=\"https://serverless.roboflow.com\",\n",
    "    api_key=os.environ.get(\"ROBOFLOW_API_KEY\")  # store key as env variable\n",
    ")\n",
    "\n",
    "@app.route('/')\n",
    "def serve_index():\n",
    "    return send_from_directory('.', 'index.html')\n",
    "\n",
    "@app.route('/classify', methods=['POST'])\n",
    "def classify_image():\n",
    "    if 'image' not in request.files:\n",
    "        return jsonify({\"error\": \"No image uploaded\"}), 400\n",
    "\n",
    "    image = request.files['image']\n",
    "    filepath = os.path.join(\"/tmp\", image.filename)\n",
    "    image.save(filepath)\n",
    "\n",
    "    result = CLIENT.infer(filepath, model_id=\"balanced-e-waste-dataset/3\")\n",
    "    return jsonify(result)\n",
    "\n",
    "if __name__ == '__main__':\n",
    "    app.run(host=\"0.0.0.0\", port=5000)\n"
   ]
  },
  {
   "cell_type": "code",
   "execution_count": null,
   "id": "a6cf8fbd-1932-49f4-9f7a-0b3d9a70bcec",
   "metadata": {},
   "outputs": [],
   "source": []
  }
 ],
 "metadata": {
  "kernelspec": {
   "display_name": "Python 3 (ipykernel)",
   "language": "python",
   "name": "python3"
  },
  "language_info": {
   "codemirror_mode": {
    "name": "ipython",
    "version": 3
   },
   "file_extension": ".py",
   "mimetype": "text/x-python",
   "name": "python",
   "nbconvert_exporter": "python",
   "pygments_lexer": "ipython3",
   "version": "3.11.8"
  }
 },
 "nbformat": 4,
 "nbformat_minor": 5
}
